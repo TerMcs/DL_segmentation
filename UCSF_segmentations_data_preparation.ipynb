{
 "cells": [
  {
   "cell_type": "code",
   "execution_count": 32,
   "metadata": {},
   "outputs": [],
   "source": [
    "import pandas as pd\n",
    "import numpy as np\n",
    "import re"
   ]
  },
  {
   "cell_type": "code",
   "execution_count": null,
   "metadata": {},
   "outputs": [
    {
     "name": "stderr",
     "output_type": "stream",
     "text": [
      "/var/folders/8l/dkxhdycd15d4pt_h700hp40h0000gq/T/ipykernel_42210/2963419399.py:1: DtypeWarning: Columns (11,16,62,65,67,77,79,82,102,103,104,105,126,132) have mixed types. Specify dtype option on import or set low_memory=False.\n",
      "  dicom_metadata = pd.read_csv('/Users/tmcsween21/Documents/data/UCSF_ComeBACK/xnat.radiology.ucsf.edu/dicom_metadata.csv')\n"
     ]
    }
   ],
   "source": [
    "dicom_metadata = pd.read_csv('../data/UCSF_ComeBACK/xnat.radiology.ucsf.edu/dicom_metadata.csv')"
   ]
  },
  {
   "cell_type": "code",
   "execution_count": null,
   "metadata": {},
   "outputs": [],
   "source": [
    "dicom_metadata = dicom_metadata[~dicom_metadata['FileName'].str.contains('.DS_Store')]\n",
    "dicom_metadata = dicom_metadata[~dicom_metadata['FileName'].str.contains('upload.unsupported')]"
   ]
  },
  {
   "cell_type": "code",
   "execution_count": null,
   "metadata": {},
   "outputs": [],
   "source": [
    "dicom_metadata_grouped = dicom_metadata.groupby('PathToFolder')['InstanceNumber'].apply(list).reset_index()"
   ]
  },
  {
   "cell_type": "code",
   "execution_count": null,
   "metadata": {},
   "outputs": [],
   "source": [
    "dicom_metadata_grouped['num_slices'] = dicom_metadata_grouped['InstanceNumber'].apply(lambda x: np.floor(len(x)/3))"
   ]
  },
  {
   "cell_type": "code",
   "execution_count": null,
   "metadata": {},
   "outputs": [],
   "source": [
    "dicom_metadata_grouped['InstanceNumber'] = dicom_metadata_grouped['InstanceNumber'].apply(lambda x: sorted(x))"
   ]
  },
  {
   "cell_type": "code",
   "execution_count": null,
   "metadata": {},
   "outputs": [],
   "source": [
    "dicom_metadata_grouped['InstanceNumberSelected'] = dicom_metadata_grouped.apply(lambda x: x['InstanceNumber'][int(x['num_slices']):], axis=1)\n",
    "dicom_metadata_grouped['InstanceNumberSelected'] = dicom_metadata_grouped.apply(lambda x: x['InstanceNumberSelected'][:-int(x['num_slices'])], axis=1)"
   ]
  },
  {
   "cell_type": "code",
   "execution_count": null,
   "metadata": {},
   "outputs": [],
   "source": [
    "dicom_metadata_grouped = dicom_metadata_grouped.drop(columns=['InstanceNumber', 'num_slices'])\n",
    "dicom_metadata_grouped = dicom_metadata_grouped.rename(columns={'InstanceNumberSelected': 'InstanceNumber'})"
   ]
  },
  {
   "cell_type": "code",
   "execution_count": null,
   "metadata": {},
   "outputs": [],
   "source": [
    "dicom_metadata_grouped = dicom_metadata_grouped.explode('InstanceNumber')"
   ]
  },
  {
   "cell_type": "code",
   "execution_count": null,
   "metadata": {},
   "outputs": [],
   "source": [
    "dicom_metadata = dicom_metadata.merge(dicom_metadata_grouped, on=['InstanceNumber', 'PathToFolder'])"
   ]
  },
  {
   "cell_type": "code",
   "execution_count": null,
   "metadata": {},
   "outputs": [],
   "source": [
    "dicom_metadata.to_csv('../data/UCSF_ComeBACK/xnat.radiology.ucsf.edu/dicom_metadata_mid_third_slices.csv', index=False)"
   ]
  },
  {
   "cell_type": "code",
   "execution_count": null,
   "metadata": {},
   "outputs": [
    {
     "name": "stdout",
     "output_type": "stream",
     "text": [
      "There are 0 duplicates in the dataframe\n"
     ]
    }
   ],
   "source": [
    "dicom_metadata['duplicates'] = dicom_metadata.duplicated(subset=['FileName'], keep=False)\n",
    "dicom_metadata['duplicates'] = dicom_metadata['duplicates'].astype(int)\n",
    "duplicates = dicom_metadata['duplicates'].sum()\n",
    "print(f'There are {duplicates} duplicates in the dataframe')"
   ]
  },
  {
   "cell_type": "code",
   "execution_count": null,
   "metadata": {},
   "outputs": [],
   "source": [
    "control_metadata = pd.read_csv('../data/UCSF_ComeBACK/COMEBACK_Controls/data/control_metadata.csv')"
   ]
  },
  {
   "cell_type": "code",
   "execution_count": null,
   "metadata": {},
   "outputs": [],
   "source": [
    "control_metadata = control_metadata[control_metadata['FileName'].str.contains('_T2w_')]"
   ]
  },
  {
   "cell_type": "code",
   "execution_count": null,
   "metadata": {},
   "outputs": [],
   "source": [
    "control_metadata_grouped = control_metadata.groupby('PathToFolder')['InstanceNumber'].apply(list).reset_index()"
   ]
  },
  {
   "cell_type": "code",
   "execution_count": null,
   "metadata": {},
   "outputs": [],
   "source": [
    "control_metadata_grouped['num_slices'] = control_metadata_grouped['InstanceNumber'].apply(lambda x: np.floor(len(x)/3))\n",
    "control_metadata_grouped['InstanceNumber'] = control_metadata_grouped['InstanceNumber'].apply(lambda x: sorted(x))\n",
    "control_metadata_grouped['InstanceNumberSelected'] = control_metadata_grouped.apply(lambda x: x['InstanceNumber'][int(x['num_slices']):], axis=1)\n",
    "control_metadata_grouped['InstanceNumberSelected'] = control_metadata_grouped.apply(lambda x: x['InstanceNumberSelected'][:-int(x['num_slices'])], axis=1)\n",
    "control_metadata_grouped = control_metadata_grouped.drop(columns=['InstanceNumber', 'num_slices'])\n",
    "control_metadata_grouped = control_metadata_grouped.rename(columns={'InstanceNumberSelected': 'InstanceNumber'})\n",
    "control_metadata_grouped = control_metadata_grouped.explode('InstanceNumber')\n",
    "control_metadata = control_metadata.merge(control_metadata_grouped, on=['InstanceNumber', 'PathToFolder'])"
   ]
  },
  {
   "cell_type": "code",
   "execution_count": null,
   "metadata": {},
   "outputs": [],
   "source": [
    "import os\n",
    "import pydicom\n",
    "import numpy as np\n",
    "import cv2\n",
    "from PIL import Image\n",
    "import matplotlib.pyplot as plt\n",
    "\n",
    "def dicom_to_png(dicom_filepath, output_folder, instance_number):\n",
    "    \"\"\"\n",
    "    Converts a DICOM file to PNG format and saves it in the specified output folder.\n",
    "    \n",
    "    Args:\n",
    "    - dicom_filepath (str): Path to the DICOM file.\n",
    "    - output_folder (str): Path to the folder where the PNG will be saved.\n",
    "    \n",
    "    Returns:\n",
    "    - str: Path to the saved PNG file.\n",
    "    \"\"\"\n",
    "    # Read the DICOM file\n",
    "    dicom_data = pydicom.dcmread(dicom_filepath)\n",
    "    \n",
    "    # Extract the pixel array and convert it to a numpy array\n",
    "    image_raw = dicom_data.pixel_array.astype(np.float32)\n",
    "    image_raw = np.array(image_raw)\n",
    "    \n",
    "    image_raw = Image.fromarray(image_raw)\n",
    "    \n",
    "    # Ensure the output folder exists\n",
    "    os.makedirs(output_folder, exist_ok=True)\n",
    "    \n",
    "    participant_id = dicom_filepath.replace('../data/UCSF_ComeBACK/xnat.radiology.ucsf.edu/San_Francisco_cohort/', '')\n",
    "    participant_id = participant_id.replace('/', '_')\n",
    "    participant_id = participant_id.replace('.dcm', '')\n",
    "    participant_id = participant_id.replace('.DCM', '')\n",
    "    participant_id = participant_id + '_' + str(instance_number) + '.png'\n",
    "\n",
    "    output_filepath = os.path.join(output_folder, participant_id)\n",
    "    \n",
    "    # Save the image as a PNG file\n",
    "    # cv2.imwrite(output_filepath, image_raw)\n",
    "    plt.imsave(output_filepath, image_raw, cmap='gray')\n",
    "    \n",
    "    return print(\"pngs saved\")"
   ]
  },
  {
   "cell_type": "code",
   "execution_count": null,
   "metadata": {},
   "outputs": [
    {
     "name": "stdout",
     "output_type": "stream",
     "text": [
      "pngs saved\n",
      "pngs saved\n",
      "pngs saved\n",
      "pngs saved\n",
      "pngs saved\n",
      "pngs saved\n",
      "pngs saved\n",
      "pngs saved\n",
      "pngs saved\n",
      "pngs saved\n",
      "pngs saved\n",
      "pngs saved\n",
      "pngs saved\n",
      "pngs saved\n",
      "pngs saved\n",
      "pngs saved\n",
      "pngs saved\n",
      "pngs saved\n",
      "pngs saved\n",
      "pngs saved\n",
      "pngs saved\n",
      "pngs saved\n",
      "pngs saved\n",
      "pngs saved\n",
      "pngs saved\n",
      "pngs saved\n",
      "pngs saved\n",
      "pngs saved\n",
      "pngs saved\n",
      "pngs saved\n",
      "pngs saved\n",
      "pngs saved\n",
      "pngs saved\n",
      "pngs saved\n",
      "pngs saved\n",
      "pngs saved\n",
      "pngs saved\n",
      "pngs saved\n",
      "pngs saved\n",
      "pngs saved\n",
      "pngs saved\n",
      "pngs saved\n",
      "pngs saved\n",
      "pngs saved\n",
      "pngs saved\n",
      "pngs saved\n",
      "pngs saved\n",
      "pngs saved\n",
      "pngs saved\n",
      "pngs saved\n"
     ]
    }
   ],
   "source": [
    "dicom_metadata_SF_cohort = dicom_metadata[dicom_metadata['PathToFolder'].str.contains('CMBK-0101')]\n",
    "dicom_metadata_other_sites = dicom_metadata[~dicom_metadata['PathToFolder'].str.contains('CMBK-0101')]\n",
    "dicom_metadata_sample = dicom_metadata_SF_cohort.sample(50)\n",
    "\n",
    "dicom_metadata_sample['PathToFolder'] = '../data/UCSF_ComeBACK/xnat.radiology.ucsf.edu/' + dicom_metadata_sample['PathToFolder']\n",
    "dicom_metadata_sample['dicom_filepath'] = dicom_metadata_sample.apply(lambda x: os.path.join(x['PathToFolder'], x['FileName']), axis=1)\n",
    "\n",
    "for i in dicom_metadata_sample['dicom_filepath']:\n",
    "    instance_number = dicom_metadata_sample[dicom_metadata_sample['dicom_filepath'] == i]['InstanceNumber'].values[0]\n",
    "    # make the instance number an integer\n",
    "    instance_number = int(instance_number)\n",
    "    dicom_to_png(i, '../data/UCSF_ComeBACK/xnat.radiology.ucsf.edu/San_Francisco_cohort_pngs', instance_number)"
   ]
  }
 ],
 "metadata": {
  "kernelspec": {
   "display_name": "base",
   "language": "python",
   "name": "python3"
  },
  "language_info": {
   "codemirror_mode": {
    "name": "ipython",
    "version": 3
   },
   "file_extension": ".py",
   "mimetype": "text/x-python",
   "name": "python",
   "nbconvert_exporter": "python",
   "pygments_lexer": "ipython3",
   "version": "3.9.13"
  }
 },
 "nbformat": 4,
 "nbformat_minor": 2
}
